{
  "nbformat": 4,
  "nbformat_minor": 0,
  "metadata": {
    "_draft": {
      "nbviewer_url": "https://gist.github.com/26417fc5578b54127222ec4db23d362f"
    },
    "gist": {
      "data": {
        "description": "Pandas_Data Processing.ipynb",
        "public": true
      },
      "id": "26417fc5578b54127222ec4db23d362f"
    },
    "kernelspec": {
      "display_name": "Python 3",
      "language": "python",
      "name": "python3"
    },
    "language_info": {
      "codemirror_mode": {
        "name": "ipython",
        "version": 3
      },
      "file_extension": ".py",
      "mimetype": "text/x-python",
      "name": "python",
      "nbconvert_exporter": "python",
      "pygments_lexer": "ipython3",
      "version": "3.7.4"
    },
    "colab": {
      "provenance": []
    }
  },
  "cells": [
    {
      "cell_type": "code",
      "metadata": {
        "id": "QNNljSLIaO_M"
      },
      "source": [
        "import pandas as pd"
      ],
      "execution_count": null,
      "outputs": []
    },
    {
      "cell_type": "code",
      "source": [
        "dir(pd)"
      ],
      "metadata": {
        "id": "5Z7JbpsHM1fq",
        "collapsed": true
      },
      "execution_count": null,
      "outputs": []
    },
    {
      "cell_type": "code",
      "metadata": {
        "id": "vuKG3XW0aO_Q"
      },
      "source": [
        "# First upload Salaries.csv\n",
        "#df=pd.read_csv(\"/content/Salaries.csv\")\n",
        "df=pd.read_csv(\"Salaries.csv\")"
      ],
      "execution_count": null,
      "outputs": []
    },
    {
      "cell_type": "code",
      "source": [
        "df"
      ],
      "metadata": {
        "id": "R33Vv8T7RX_g"
      },
      "execution_count": null,
      "outputs": []
    },
    {
      "cell_type": "code",
      "metadata": {
        "id": "RofqRQcPaO_R"
      },
      "source": [
        "df.columns"
      ],
      "execution_count": null,
      "outputs": []
    },
    {
      "cell_type": "code",
      "source": [
        "df.dtypes"
      ],
      "metadata": {
        "id": "kaf-mydsRRdz"
      },
      "execution_count": null,
      "outputs": []
    },
    {
      "cell_type": "code",
      "metadata": {
        "id": "QHJ8GFpQaO_T"
      },
      "source": [
        "df.head(2)"
      ],
      "execution_count": null,
      "outputs": []
    },
    {
      "cell_type": "code",
      "source": [
        "df.info()"
      ],
      "metadata": {
        "id": "ZwTEM9eKLVM-"
      },
      "execution_count": null,
      "outputs": []
    },
    {
      "cell_type": "code",
      "source": [
        "df['rank']"
      ],
      "metadata": {
        "id": "ebx3Xikg8OXx"
      },
      "execution_count": null,
      "outputs": []
    },
    {
      "cell_type": "code",
      "metadata": {
        "id": "2_zoQR_xaO_U"
      },
      "source": [
        "df.describe()"
      ],
      "execution_count": null,
      "outputs": []
    },
    {
      "cell_type": "code",
      "metadata": {
        "id": "9KQZlWhRaO_U"
      },
      "source": [
        "df.max()"
      ],
      "execution_count": null,
      "outputs": []
    },
    {
      "cell_type": "code",
      "metadata": {
        "id": "vhiUAvtbaO_V"
      },
      "source": [
        "df.min()"
      ],
      "execution_count": null,
      "outputs": []
    },
    {
      "cell_type": "code",
      "metadata": {
        "id": "qxQ-28oTaO_V"
      },
      "source": [
        "df.phd.mean()"
      ],
      "execution_count": null,
      "outputs": []
    },
    {
      "cell_type": "code",
      "metadata": {
        "id": "wzo7GCA0aO_W"
      },
      "source": [
        "df.phd.describe()"
      ],
      "execution_count": null,
      "outputs": []
    },
    {
      "cell_type": "code",
      "source": [
        "df.phd.quantile(0.25)"
      ],
      "metadata": {
        "id": "clc8aTLdOOn_"
      },
      "execution_count": null,
      "outputs": []
    },
    {
      "cell_type": "code",
      "source": [
        "df.salary.quantile(0.50)"
      ],
      "metadata": {
        "id": "YW7QzxlEOSSN"
      },
      "execution_count": null,
      "outputs": []
    },
    {
      "cell_type": "code",
      "source": [
        "df.salary.quantile(0.10)"
      ],
      "metadata": {
        "id": "k0RrWd4POVYr"
      },
      "execution_count": null,
      "outputs": []
    },
    {
      "cell_type": "code",
      "metadata": {
        "id": "9kJzOvI-aO_W"
      },
      "source": [
        "df.phd.std()"
      ],
      "execution_count": null,
      "outputs": []
    },
    {
      "cell_type": "code",
      "metadata": {
        "id": "Xux6tLoIaO_X"
      },
      "source": [
        "#Selecting a column\n",
        "df.salary # does not work if column name contains blank space or dot (eg. \"No. of Columns\")\n",
        "#           for that enclose column name inside square bracket."
      ],
      "execution_count": null,
      "outputs": []
    },
    {
      "cell_type": "code",
      "metadata": {
        "id": "y37EK0lgaO_X"
      },
      "source": [
        "df['salary'] # will work if column name has blank space or dot eg. df[\"No. of Columns\"]"
      ],
      "execution_count": null,
      "outputs": []
    },
    {
      "cell_type": "code",
      "source": [
        "result1=df.salary\n",
        "result1"
      ],
      "metadata": {
        "id": "l9uB5zDLR8Z6"
      },
      "execution_count": null,
      "outputs": []
    },
    {
      "cell_type": "code",
      "source": [
        "# 2 data structures in pandas: 1. Series 2. DataFrame\n",
        "# Pandas Series: is a one-dimensional labeled array whose object size cannot be changed.\n",
        "#\n",
        "# Pandas DataFrame: is a two-dimensional structure with columns and rows whose size can be changed.\n",
        "# You can also think of it as a dictionary of Series objects.\n",
        "type(result1)"
      ],
      "metadata": {
        "id": "JbFTOZoOaRdT",
        "collapsed": true
      },
      "execution_count": null,
      "outputs": []
    },
    {
      "cell_type": "code",
      "source": [
        "result2=df[['salary','rank']]"
      ],
      "metadata": {
        "id": "qy-QksHSaTpy"
      },
      "execution_count": null,
      "outputs": []
    },
    {
      "cell_type": "code",
      "source": [
        "result2"
      ],
      "metadata": {
        "id": "LBe3yMYecKWq"
      },
      "execution_count": null,
      "outputs": []
    },
    {
      "cell_type": "code",
      "source": [
        "type(result2)"
      ],
      "metadata": {
        "id": "9UuaWDlzcT76",
        "collapsed": true
      },
      "execution_count": null,
      "outputs": []
    },
    {
      "cell_type": "code",
      "metadata": {
        "id": "qvQueROVaO_Y"
      },
      "source": [
        "df.columns"
      ],
      "execution_count": null,
      "outputs": []
    },
    {
      "cell_type": "code",
      "source": [
        "# Extract particular columns in a new dataframe\n",
        "newdf=df[['salary','service','phd']]\n",
        "newdf"
      ],
      "metadata": {
        "id": "g7VxVTuxcwAi"
      },
      "execution_count": null,
      "outputs": []
    },
    {
      "cell_type": "code",
      "source": [
        "df['discipline'].value_counts() # category and its value"
      ],
      "metadata": {
        "id": "xF7P6qCZc_TG"
      },
      "execution_count": null,
      "outputs": []
    },
    {
      "cell_type": "code",
      "source": [
        "df['rank'].value_counts()"
      ],
      "metadata": {
        "id": "OvS0mWu-deWW"
      },
      "execution_count": null,
      "outputs": []
    },
    {
      "cell_type": "code",
      "metadata": {
        "id": "D_7CKxVTaO_Z"
      },
      "source": [
        "# in rank 3 values: Asso,Asst,Prof. Group by this and find mean of each category\n",
        "df.groupby(['rank']).salary.mean() # group by rank and finds mean of all numeric columns"
      ],
      "execution_count": null,
      "outputs": []
    },
    {
      "cell_type": "code",
      "source": [
        "df.groupby([\"discipline\"]).count()"
      ],
      "metadata": {
        "id": "-ymHvj81Zb3Q"
      },
      "execution_count": null,
      "outputs": []
    },
    {
      "cell_type": "code",
      "source": [
        "df.groupby([\"discipline\",\"rank\"]).count()"
      ],
      "metadata": {
        "id": "W-gUNtFTaJr4"
      },
      "execution_count": null,
      "outputs": []
    },
    {
      "cell_type": "code",
      "source": [
        "df.groupby([\"discipline\",\"rank\",\"sex\"]).count()"
      ],
      "metadata": {
        "id": "u5ilT3CZaOr4"
      },
      "execution_count": null,
      "outputs": []
    },
    {
      "cell_type": "code",
      "source": [
        "df.groupby([\"discipline\",\"rank\",\"sex\"]).mean() # avg sal of discipline B's Male Prof is: 137989.076923"
      ],
      "metadata": {
        "id": "gilNlofvl7K5"
      },
      "execution_count": null,
      "outputs": []
    },
    {
      "cell_type": "code",
      "metadata": {
        "id": "HfgS0ns-aO_a"
      },
      "source": [
        "df.groupby('rank')[['salary','phd']].mean() # group by rank and find mean of specified columns only"
      ],
      "execution_count": null,
      "outputs": []
    },
    {
      "cell_type": "code",
      "metadata": {
        "id": "1GyuobpRaO_b"
      },
      "source": [
        "df[df.salary>120000]\n"
      ],
      "execution_count": null,
      "outputs": []
    },
    {
      "cell_type": "code",
      "metadata": {
        "id": "EwN7XrQjaO_b"
      },
      "source": [
        "df.shape"
      ],
      "execution_count": null,
      "outputs": []
    },
    {
      "cell_type": "code",
      "source": [
        "df.shape[1]"
      ],
      "metadata": {
        "id": "nRCr6QapxjwI"
      },
      "execution_count": null,
      "outputs": []
    },
    {
      "cell_type": "code",
      "source": [
        "df[df.salary>120000].shape[0] # count of prof having sal > 120000"
      ],
      "metadata": {
        "id": "TxHQkPwQxT2C"
      },
      "execution_count": null,
      "outputs": []
    },
    {
      "cell_type": "code",
      "metadata": {
        "id": "db4wVy9WaO_b"
      },
      "source": [
        "# Create a dataframe having all Males whose salary is > 1,50,000/-\n",
        "\n",
        "newdf=df[(df['sex']=='Male') & (df['salary']>150000)]\n",
        "#newdf=df[(df.sex=='Male') & (df.salary>150000)]\n",
        "newdf"
      ],
      "execution_count": null,
      "outputs": []
    },
    {
      "cell_type": "code",
      "source": [
        "#newdf.count()\n",
        "# OR\n",
        "newdf.shape[0]"
      ],
      "metadata": {
        "id": "RMFjNQ8vzK-a"
      },
      "execution_count": null,
      "outputs": []
    },
    {
      "cell_type": "code",
      "source": [
        "df[(df['service']>15) | (df['salary']>100000)]\n",
        "#df[(df['service']>15) | (df['salary']>100000)].shape[0]"
      ],
      "metadata": {
        "id": "iAQ4QIuJ0OsI"
      },
      "execution_count": null,
      "outputs": []
    },
    {
      "cell_type": "code",
      "source": [
        "df # will display all records"
      ],
      "metadata": {
        "id": "O_31aOpZ0qVY"
      },
      "execution_count": null,
      "outputs": []
    },
    {
      "cell_type": "code",
      "source": [
        "# to extract only particular index record - say 5th index record\n",
        "df[5] # will raise error"
      ],
      "metadata": {
        "id": "is19euc21ONj",
        "collapsed": true
      },
      "execution_count": null,
      "outputs": []
    },
    {
      "cell_type": "code",
      "source": [
        "df.iloc[4] # iloc -> index location for row"
      ],
      "metadata": {
        "id": "X6H2qYqh1ZVB"
      },
      "execution_count": null,
      "outputs": []
    },
    {
      "cell_type": "code",
      "metadata": {
        "id": "CEc5aWb6aO_b"
      },
      "source": [
        "df.iloc[1:4, 0:3]  # row 1 to 3, col 0 to 2"
      ],
      "execution_count": null,
      "outputs": []
    },
    {
      "cell_type": "code",
      "metadata": {
        "id": "Vbf_QkXyaO_c"
      },
      "source": [
        "df.iloc[0:10,0:3] # 0 to 9 records, 0 to 2 columns"
      ],
      "execution_count": null,
      "outputs": []
    },
    {
      "cell_type": "code",
      "metadata": {
        "id": "WiUu6UE9aO_c"
      },
      "source": [
        "df.iloc[0:2,] # rows 0 to 1 and all columns, Or df.iloc[0:2]"
      ],
      "execution_count": null,
      "outputs": []
    },
    {
      "cell_type": "code",
      "metadata": {
        "id": "DDjUxuEFaO_c"
      },
      "source": [
        "df.iloc[:,4] #all rows, index 4 column"
      ],
      "execution_count": null,
      "outputs": []
    },
    {
      "cell_type": "code",
      "source": [
        "df.iloc[:,0:3]"
      ],
      "metadata": {
        "id": "lXgvlS024ju7"
      },
      "execution_count": null,
      "outputs": []
    },
    {
      "cell_type": "code",
      "metadata": {
        "id": "2p5e5bh-aO_c"
      },
      "source": [
        "df.iloc[[10,20,22,24],] # only particular rows with all columns df.iloc[[10,20,22,24]]"
      ],
      "execution_count": null,
      "outputs": []
    },
    {
      "cell_type": "code",
      "metadata": {
        "id": "PXl5COkGaO_c"
      },
      "source": [
        "df.loc[:,['rank','sex']] # without mentioning index no. - mention col name"
      ],
      "execution_count": null,
      "outputs": []
    },
    {
      "cell_type": "code",
      "metadata": {
        "id": "W4dQROANaO_d"
      },
      "source": [
        "df.loc[[0,1,2],['discipline','rank']]"
      ],
      "execution_count": null,
      "outputs": []
    },
    {
      "cell_type": "code",
      "metadata": {
        "id": "byEJPWceaO_d"
      },
      "source": [
        "df.iloc[::5] # start value:0, end value:77, step value:5, all rows and columns with step value 5"
      ],
      "execution_count": null,
      "outputs": []
    },
    {
      "cell_type": "code",
      "metadata": {
        "id": "MWmUmO0caO_d"
      },
      "source": [
        "df.iloc[10:30:4]"
      ],
      "execution_count": null,
      "outputs": []
    },
    {
      "cell_type": "code",
      "metadata": {
        "id": "iyB5tZZWaO_d"
      },
      "source": [
        "df.iloc[::-1] # all records in reverse order"
      ],
      "execution_count": null,
      "outputs": []
    }
  ]
}